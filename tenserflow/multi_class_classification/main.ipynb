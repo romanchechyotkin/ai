{
 "cells": [
  {
   "cell_type": "code",
   "id": "initial_id",
   "metadata": {
    "collapsed": true,
    "ExecuteTime": {
     "end_time": "2024-05-20T19:13:00.620762Z",
     "start_time": "2024-05-20T19:12:56.499803Z"
    }
   },
   "source": [
    "import os\n",
    "import re\n",
    "import shutil\n",
    "import string\n",
    "\n",
    "import matplotlib.pyplot as plt\n",
    "import tensorflow as tf\n",
    "\n",
    "from tensorflow.keras import layers\n",
    "from tensorflow.keras import losses"
   ],
   "outputs": [],
   "execution_count": 8
  },
  {
   "metadata": {
    "ExecuteTime": {
     "end_time": "2024-05-20T19:15:12.886348Z",
     "start_time": "2024-05-20T19:15:12.883002Z"
    }
   },
   "cell_type": "code",
   "source": "print(\"multi-class classification on Stack Overflow questions\")",
   "id": "a6013b07be601e67",
   "outputs": [
    {
     "name": "stdout",
     "output_type": "stream",
     "text": [
      "multi-class classification on Stack Overflow questions\n"
     ]
    }
   ],
   "execution_count": 12
  },
  {
   "metadata": {
    "ExecuteTime": {
     "end_time": "2024-05-20T19:13:54.840962Z",
     "start_time": "2024-05-20T19:13:54.838549Z"
    }
   },
   "cell_type": "code",
   "source": "print(tf.__version__)",
   "id": "ba7a616f802183e6",
   "outputs": [
    {
     "name": "stdout",
     "output_type": "stream",
     "text": [
      "2.16.1\n"
     ]
    }
   ],
   "execution_count": 11
  },
  {
   "metadata": {
    "ExecuteTime": {
     "end_time": "2024-05-20T19:42:53.310552Z",
     "start_time": "2024-05-20T19:42:51.258594Z"
    }
   },
   "cell_type": "code",
   "source": [
    "url = \"https://storage.googleapis.com/download.tensorflow.org/data/stack_overflow_16k.tar.gz\"\n",
    "\n",
    "dataset = tf.keras.utils.get_file(\"stack_overflow\", url, untar=True, cache_dir='.', cache_subdir='')\n",
    "\n",
    "test_dir = \"test\"\n",
    "train_dir = \"train\""
   ],
   "id": "a6d4db37cbcc697c",
   "outputs": [],
   "execution_count": 42
  },
  {
   "metadata": {
    "ExecuteTime": {
     "end_time": "2024-05-20T19:42:53.313594Z",
     "start_time": "2024-05-20T19:42:53.311562Z"
    }
   },
   "cell_type": "code",
   "source": [
    "print(os.listdir(test_dir))\n",
    "print(os.listdir(train_dir))"
   ],
   "id": "5a4ad565c6499ef0",
   "outputs": [
    {
     "name": "stdout",
     "output_type": "stream",
     "text": [
      "['python', 'java', 'csharp', 'javascript']\n",
      "['python', 'java', 'csharp', 'javascript']\n"
     ]
    }
   ],
   "execution_count": 43
  },
  {
   "metadata": {},
   "cell_type": "code",
   "outputs": [],
   "execution_count": null,
   "source": "",
   "id": "50d09961a09c4a36"
  }
 ],
 "metadata": {
  "kernelspec": {
   "display_name": "Python 3",
   "language": "python",
   "name": "python3"
  },
  "language_info": {
   "codemirror_mode": {
    "name": "ipython",
    "version": 2
   },
   "file_extension": ".py",
   "mimetype": "text/x-python",
   "name": "python",
   "nbconvert_exporter": "python",
   "pygments_lexer": "ipython2",
   "version": "2.7.6"
  }
 },
 "nbformat": 4,
 "nbformat_minor": 5
}
