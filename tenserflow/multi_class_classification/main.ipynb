{
 "cells": [
  {
   "cell_type": "code",
   "execution_count": 107,
   "id": "initial_id",
   "metadata": {
    "ExecuteTime": {
     "end_time": "2024-05-22T20:01:38.583207Z",
     "start_time": "2024-05-22T20:01:38.580329Z"
    },
    "collapsed": true
   },
   "outputs": [],
   "source": [
    "import os\n",
    "\n",
    "import matplotlib.pyplot as plt\n",
    "import tensorflow as tf\n",
    "import numpy as np\n",
    "\n",
    "from tensorflow.keras import layers\n",
    "from tensorflow.keras import losses"
   ]
  },
  {
   "cell_type": "code",
   "execution_count": 108,
   "id": "a6013b07be601e67",
   "metadata": {
    "ExecuteTime": {
     "end_time": "2024-05-22T20:01:38.599696Z",
     "start_time": "2024-05-22T20:01:38.597427Z"
    }
   },
   "outputs": [
    {
     "name": "stdout",
     "output_type": "stream",
     "text": [
      "multi-class classification on Stack Overflow questions\n"
     ]
    }
   ],
   "source": [
    "print(\"multi-class classification on Stack Overflow questions\")"
   ]
  },
  {
   "cell_type": "code",
   "execution_count": 109,
   "id": "ba7a616f802183e6",
   "metadata": {
    "ExecuteTime": {
     "end_time": "2024-05-22T20:01:38.620270Z",
     "start_time": "2024-05-22T20:01:38.618441Z"
    }
   },
   "outputs": [
    {
     "name": "stdout",
     "output_type": "stream",
     "text": [
      "2.16.1\n"
     ]
    }
   ],
   "source": [
    "print(tf.__version__)"
   ]
  },
  {
   "cell_type": "code",
   "execution_count": 110,
   "id": "a6d4db37cbcc697c",
   "metadata": {
    "ExecuteTime": {
     "end_time": "2024-05-22T20:01:41.344517Z",
     "start_time": "2024-05-22T20:01:38.621991Z"
    }
   },
   "outputs": [],
   "source": [
    "url = \"https://storage.googleapis.com/download.tensorflow.org/data/stack_overflow_16k.tar.gz\"\n",
    "\n",
    "dataset = tf.keras.utils.get_file(\"stack_overflow\", url, untar=True, cache_dir='.', cache_subdir='')\n",
    "\n",
    "test_dir = \"test\"\n",
    "train_dir = \"train\""
   ]
  },
  {
   "cell_type": "code",
   "execution_count": 111,
   "id": "5a4ad565c6499ef0",
   "metadata": {
    "ExecuteTime": {
     "end_time": "2024-05-22T20:01:41.348108Z",
     "start_time": "2024-05-22T20:01:41.345702Z"
    }
   },
   "outputs": [
    {
     "name": "stdout",
     "output_type": "stream",
     "text": [
      "['python', 'java', 'csharp', 'javascript']\n",
      "['python', 'java', 'csharp', 'javascript']\n"
     ]
    }
   ],
   "source": [
    "print(os.listdir(test_dir))\n",
    "print(os.listdir(train_dir))"
   ]
  },
  {
   "cell_type": "code",
   "execution_count": 112,
   "id": "50d09961a09c4a36",
   "metadata": {
    "ExecuteTime": {
     "end_time": "2024-05-22T20:01:41.637656Z",
     "start_time": "2024-05-22T20:01:41.348656Z"
    }
   },
   "outputs": [
    {
     "name": "stdout",
     "output_type": "stream",
     "text": [
      "Found 8000 files belonging to 4 classes.\n",
      "Using 6400 files for training.\n"
     ]
    },
    {
     "data": {
      "text/plain": [
       "<_PrefetchDataset element_spec=(TensorSpec(shape=(None,), dtype=tf.string, name=None), TensorSpec(shape=(None,), dtype=tf.int32, name=None))>"
      ]
     },
     "execution_count": 112,
     "metadata": {},
     "output_type": "execute_result"
    }
   ],
   "source": [
    "batch_size = 32\n",
    "seed = 32\n",
    "\n",
    "raw_train_dataset = tf.keras.utils.text_dataset_from_directory(\n",
    "    train_dir,\n",
    "    labels=\"inferred\",\n",
    "    batch_size=batch_size,\n",
    "    validation_split=0.2,\n",
    "    subset=\"training\",\n",
    "    seed=seed\n",
    ")\n",
    "\n",
    "raw_train_dataset"
   ]
  },
  {
   "cell_type": "code",
   "execution_count": 113,
   "id": "465600c68f39ff76",
   "metadata": {
    "ExecuteTime": {
     "end_time": "2024-05-22T20:01:41.651389Z",
     "start_time": "2024-05-22T20:01:41.639514Z"
    }
   },
   "outputs": [
    {
     "name": "stdout",
     "output_type": "stream",
     "text": [
      "b'\"array based deque implmentation i am following an online example and learning \"\"circular deque implementation in blank using array\"\". here is the online resource that i am following:..circular queue implementation..i have an array based deque class which has final capacity of 5. now if the array is full then i can have the methods create a temporary array of all the objects and then copy all the objects of temporary array back to \"\"object[] arr\"\". i have been at it for some time now but have not been able to get it going. i would appreciate if someone can help me understand the process here please. i have following class methods:...insertatfront().insertatlast().size().isempty().tostring()...here is my code:..public class arraydeque {..    private static final int init_capacity = 5;             .    private int front;                              .    private int rear;                                       .    private object[] arr;                           ...    public arraydeque(){..        arr = new object[ init_capacity ];.        front = 0;.        rear = 0;       .    }   ...    public void insertatfirst(object item){..        if(size() &gt;= arr.length){..            object[] tmp = new object[arr.length + init_capacity];..            for(int i = 0; i &lt; size(); ++i).                tmp[i] = arr[i];..            arr = tmp;.        }.        arr[front] = item;.        ++front;.    }...    public void insertatlast(object item){..        if(size() &gt;= arr.length){..            object[] tmp = new object[arr.length + init_capacity];..            for(int i = 0; i &lt; size(); ++i).                tmp[i] = arr[i];..            arr = tmp;.        }.        arr[rear] = item;.        ++rear;.    }...    public int size(){..        return (rear - front);      .    }   ...    public boolean isempty(){..        return (front == rear);..    }   ...    public string tostring(){..        string s = \"\"\"\";.        for(int i = 0; i &lt; size(); ++i).            s += arr[i] + \"\"n\"\";.        return s;.    }   .}//class\"\\n'\n",
      "[1 1 1 0 1 0 0 3 3 1 3 3 1 0 0 3 2 1 1 1 1 2 1 2 2 3 3 0 2 1 2 1]\n",
      "32\n",
      "1\n",
      "java\n"
     ]
    },
    {
     "name": "stderr",
     "output_type": "stream",
     "text": [
      "2024-05-22 23:01:41.649403: W tensorflow/core/framework/local_rendezvous.cc:404] Local rendezvous is aborting with status: OUT_OF_RANGE: End of sequence\n"
     ]
    }
   ],
   "source": [
    "for text_batch, label_batch in raw_train_dataset.take(1):\n",
    "    for i in range(1):\n",
    "        print(text_batch.numpy()[i])\n",
    "        print(label_batch.numpy())\n",
    "        print(len(label_batch.numpy()))\n",
    "        print(label_batch.numpy()[i])\n",
    "        print(raw_train_dataset.class_names[label_batch.numpy()[i]])\n",
    "   "
   ]
  },
  {
   "cell_type": "code",
   "execution_count": 114,
   "id": "fa161570706d384b",
   "metadata": {
    "ExecuteTime": {
     "end_time": "2024-05-22T20:01:41.930982Z",
     "start_time": "2024-05-22T20:01:41.652284Z"
    }
   },
   "outputs": [
    {
     "name": "stdout",
     "output_type": "stream",
     "text": [
      "Found 8000 files belonging to 4 classes.\n",
      "Using 1600 files for validation.\n"
     ]
    },
    {
     "data": {
      "text/plain": [
       "<_PrefetchDataset element_spec=(TensorSpec(shape=(None,), dtype=tf.string, name=None), TensorSpec(shape=(None,), dtype=tf.int32, name=None))>"
      ]
     },
     "execution_count": 114,
     "metadata": {},
     "output_type": "execute_result"
    }
   ],
   "source": [
    "raw_validation_dataset = tf.keras.utils.text_dataset_from_directory(\n",
    "    train_dir,\n",
    "    batch_size=batch_size,\n",
    "    validation_split=0.2,\n",
    "    subset=\"validation\",\n",
    "    seed=seed,\n",
    ")\n",
    "\n",
    "raw_validation_dataset"
   ]
  },
  {
   "cell_type": "code",
   "execution_count": 115,
   "id": "687564edb15407f6",
   "metadata": {
    "ExecuteTime": {
     "end_time": "2024-05-22T20:01:42.247369Z",
     "start_time": "2024-05-22T20:01:41.931664Z"
    }
   },
   "outputs": [
    {
     "name": "stdout",
     "output_type": "stream",
     "text": [
      "Found 8000 files belonging to 4 classes.\n"
     ]
    },
    {
     "data": {
      "text/plain": [
       "<_PrefetchDataset element_spec=(TensorSpec(shape=(None,), dtype=tf.string, name=None), TensorSpec(shape=(None,), dtype=tf.int32, name=None))>"
      ]
     },
     "execution_count": 115,
     "metadata": {},
     "output_type": "execute_result"
    }
   ],
   "source": [
    "raw_test_dataset = tf.keras.utils.text_dataset_from_directory(\n",
    "    test_dir,\n",
    "    batch_size=batch_size,\n",
    ")\n",
    "\n",
    "raw_test_dataset"
   ]
  },
  {
   "cell_type": "code",
   "execution_count": 116,
   "id": "5d1ad82d60fdbe49",
   "metadata": {
    "ExecuteTime": {
     "end_time": "2024-05-22T20:01:42.253044Z",
     "start_time": "2024-05-22T20:01:42.248102Z"
    }
   },
   "outputs": [
    {
     "data": {
      "text/plain": [
       "<TextVectorization name=text_vectorization_4, built=False>"
      ]
     },
     "execution_count": 116,
     "metadata": {},
     "output_type": "execute_result"
    }
   ],
   "source": [
    "max_features = 10000\n",
    "sequence_length = 250 \n",
    "\n",
    "vectorization_layer = layers.TextVectorization(\n",
    "    max_tokens=max_features,\n",
    "    output_mode=\"int\",\n",
    "    output_sequence_length=sequence_length,\n",
    ")\n",
    "\n",
    "vectorization_layer"
   ]
  },
  {
   "cell_type": "code",
   "execution_count": 117,
   "id": "4d6dcf7e24576f33",
   "metadata": {
    "ExecuteTime": {
     "end_time": "2024-05-22T20:01:42.892443Z",
     "start_time": "2024-05-22T20:01:42.254004Z"
    }
   },
   "outputs": [
    {
     "name": "stderr",
     "output_type": "stream",
     "text": [
      "2024-05-22 23:01:42.822966: W tensorflow/core/framework/local_rendezvous.cc:404] Local rendezvous is aborting with status: OUT_OF_RANGE: End of sequence\n"
     ]
    }
   ],
   "source": [
    "train_text = raw_train_dataset.map(lambda batch, label: batch)\n",
    "vectorization_layer.adapt(train_text)"
   ]
  },
  {
   "cell_type": "code",
   "execution_count": 118,
   "id": "e91c51145dee47db",
   "metadata": {
    "ExecuteTime": {
     "end_time": "2024-05-22T20:01:42.926315Z",
     "start_time": "2024-05-22T20:01:42.893205Z"
    }
   },
   "outputs": [
    {
     "name": "stdout",
     "output_type": "stream",
     "text": [
      "1287 --->  magic\n",
      " 313 --->  search\n",
      "Vocabulary size: 10000\n"
     ]
    }
   ],
   "source": [
    "print(\"1287 ---> \",vectorization_layer.get_vocabulary()[1287])\n",
    "print(\" 313 ---> \",vectorization_layer.get_vocabulary()[313])\n",
    "print('Vocabulary size: {}'.format(len(vectorization_layer.get_vocabulary())))"
   ]
  },
  {
   "cell_type": "code",
   "execution_count": 119,
   "id": "271979c83a90c28",
   "metadata": {
    "ExecuteTime": {
     "end_time": "2024-05-22T20:01:42.930594Z",
     "start_time": "2024-05-22T20:01:42.928656Z"
    }
   },
   "outputs": [],
   "source": [
    "def vector_text(text, label):\n",
    "    text = tf.expand_dims(text, -1)\n",
    "    return vectorization_layer(text), label"
   ]
  },
  {
   "cell_type": "code",
   "execution_count": 148,
   "id": "1e0696e6ef250dee",
   "metadata": {
    "ExecuteTime": {
     "end_time": "2024-05-22T20:15:01.607949Z",
     "start_time": "2024-05-22T20:15:01.521727Z"
    }
   },
   "outputs": [],
   "source": [
    "train_dataset = raw_train_dataset.map(vector_text)\n",
    "validation_dataset = raw_validation_dataset.map(vector_text)\n",
    "test_dataset = raw_test_dataset.map(vector_text)"
   ]
  },
  {
   "cell_type": "code",
   "execution_count": 149,
   "id": "d431a0fe410f8d49",
   "metadata": {
    "ExecuteTime": {
     "end_time": "2024-05-22T20:15:02.065811Z",
     "start_time": "2024-05-22T20:15:02.054662Z"
    }
   },
   "outputs": [
    {
     "data": {
      "text/html": [
       "<pre style=\"white-space:pre;overflow-x:auto;line-height:normal;font-family:Menlo,'DejaVu Sans Mono',consolas,'Courier New',monospace\"><span style=\"font-weight: bold\">Model: \"sequential_11\"</span>\n",
       "</pre>\n"
      ],
      "text/plain": [
       "\u001b[1mModel: \"sequential_11\"\u001b[0m\n"
      ]
     },
     "metadata": {},
     "output_type": "display_data"
    },
    {
     "data": {
      "text/html": [
       "<pre style=\"white-space:pre;overflow-x:auto;line-height:normal;font-family:Menlo,'DejaVu Sans Mono',consolas,'Courier New',monospace\">┏━━━━━━━━━━━━━━━━━━━━━━━━━━━━━━━━━┳━━━━━━━━━━━━━━━━━━━━━━━━┳━━━━━━━━━━━━━━━┓\n",
       "┃<span style=\"font-weight: bold\"> Layer (type)                    </span>┃<span style=\"font-weight: bold\"> Output Shape           </span>┃<span style=\"font-weight: bold\">       Param # </span>┃\n",
       "┡━━━━━━━━━━━━━━━━━━━━━━━━━━━━━━━━━╇━━━━━━━━━━━━━━━━━━━━━━━━╇━━━━━━━━━━━━━━━┩\n",
       "│ embedding_5 (<span style=\"color: #0087ff; text-decoration-color: #0087ff\">Embedding</span>)         │ ?                      │   <span style=\"color: #00af00; text-decoration-color: #00af00\">0</span> (unbuilt) │\n",
       "├─────────────────────────────────┼────────────────────────┼───────────────┤\n",
       "│ dropout_10 (<span style=\"color: #0087ff; text-decoration-color: #0087ff\">Dropout</span>)            │ ?                      │   <span style=\"color: #00af00; text-decoration-color: #00af00\">0</span> (unbuilt) │\n",
       "├─────────────────────────────────┼────────────────────────┼───────────────┤\n",
       "│ global_average_pooling1d_5      │ ?                      │   <span style=\"color: #00af00; text-decoration-color: #00af00\">0</span> (unbuilt) │\n",
       "│ (<span style=\"color: #0087ff; text-decoration-color: #0087ff\">GlobalAveragePooling1D</span>)        │                        │               │\n",
       "├─────────────────────────────────┼────────────────────────┼───────────────┤\n",
       "│ dropout_11 (<span style=\"color: #0087ff; text-decoration-color: #0087ff\">Dropout</span>)            │ ?                      │   <span style=\"color: #00af00; text-decoration-color: #00af00\">0</span> (unbuilt) │\n",
       "├─────────────────────────────────┼────────────────────────┼───────────────┤\n",
       "│ dense_5 (<span style=\"color: #0087ff; text-decoration-color: #0087ff\">Dense</span>)                 │ ?                      │   <span style=\"color: #00af00; text-decoration-color: #00af00\">0</span> (unbuilt) │\n",
       "└─────────────────────────────────┴────────────────────────┴───────────────┘\n",
       "</pre>\n"
      ],
      "text/plain": [
       "┏━━━━━━━━━━━━━━━━━━━━━━━━━━━━━━━━━┳━━━━━━━━━━━━━━━━━━━━━━━━┳━━━━━━━━━━━━━━━┓\n",
       "┃\u001b[1m \u001b[0m\u001b[1mLayer (type)                   \u001b[0m\u001b[1m \u001b[0m┃\u001b[1m \u001b[0m\u001b[1mOutput Shape          \u001b[0m\u001b[1m \u001b[0m┃\u001b[1m \u001b[0m\u001b[1m      Param #\u001b[0m\u001b[1m \u001b[0m┃\n",
       "┡━━━━━━━━━━━━━━━━━━━━━━━━━━━━━━━━━╇━━━━━━━━━━━━━━━━━━━━━━━━╇━━━━━━━━━━━━━━━┩\n",
       "│ embedding_5 (\u001b[38;5;33mEmbedding\u001b[0m)         │ ?                      │   \u001b[38;5;34m0\u001b[0m (unbuilt) │\n",
       "├─────────────────────────────────┼────────────────────────┼───────────────┤\n",
       "│ dropout_10 (\u001b[38;5;33mDropout\u001b[0m)            │ ?                      │   \u001b[38;5;34m0\u001b[0m (unbuilt) │\n",
       "├─────────────────────────────────┼────────────────────────┼───────────────┤\n",
       "│ global_average_pooling1d_5      │ ?                      │   \u001b[38;5;34m0\u001b[0m (unbuilt) │\n",
       "│ (\u001b[38;5;33mGlobalAveragePooling1D\u001b[0m)        │                        │               │\n",
       "├─────────────────────────────────┼────────────────────────┼───────────────┤\n",
       "│ dropout_11 (\u001b[38;5;33mDropout\u001b[0m)            │ ?                      │   \u001b[38;5;34m0\u001b[0m (unbuilt) │\n",
       "├─────────────────────────────────┼────────────────────────┼───────────────┤\n",
       "│ dense_5 (\u001b[38;5;33mDense\u001b[0m)                 │ ?                      │   \u001b[38;5;34m0\u001b[0m (unbuilt) │\n",
       "└─────────────────────────────────┴────────────────────────┴───────────────┘\n"
      ]
     },
     "metadata": {},
     "output_type": "display_data"
    },
    {
     "data": {
      "text/html": [
       "<pre style=\"white-space:pre;overflow-x:auto;line-height:normal;font-family:Menlo,'DejaVu Sans Mono',consolas,'Courier New',monospace\"><span style=\"font-weight: bold\"> Total params: </span><span style=\"color: #00af00; text-decoration-color: #00af00\">0</span> (0.00 B)\n",
       "</pre>\n"
      ],
      "text/plain": [
       "\u001b[1m Total params: \u001b[0m\u001b[38;5;34m0\u001b[0m (0.00 B)\n"
      ]
     },
     "metadata": {},
     "output_type": "display_data"
    },
    {
     "data": {
      "text/html": [
       "<pre style=\"white-space:pre;overflow-x:auto;line-height:normal;font-family:Menlo,'DejaVu Sans Mono',consolas,'Courier New',monospace\"><span style=\"font-weight: bold\"> Trainable params: </span><span style=\"color: #00af00; text-decoration-color: #00af00\">0</span> (0.00 B)\n",
       "</pre>\n"
      ],
      "text/plain": [
       "\u001b[1m Trainable params: \u001b[0m\u001b[38;5;34m0\u001b[0m (0.00 B)\n"
      ]
     },
     "metadata": {},
     "output_type": "display_data"
    },
    {
     "data": {
      "text/html": [
       "<pre style=\"white-space:pre;overflow-x:auto;line-height:normal;font-family:Menlo,'DejaVu Sans Mono',consolas,'Courier New',monospace\"><span style=\"font-weight: bold\"> Non-trainable params: </span><span style=\"color: #00af00; text-decoration-color: #00af00\">0</span> (0.00 B)\n",
       "</pre>\n"
      ],
      "text/plain": [
       "\u001b[1m Non-trainable params: \u001b[0m\u001b[38;5;34m0\u001b[0m (0.00 B)\n"
      ]
     },
     "metadata": {},
     "output_type": "display_data"
    }
   ],
   "source": [
    "embedding_dim = 16\n",
    "\n",
    "model = tf.keras.Sequential([\n",
    "    layers.Embedding(max_features, embedding_dim),\n",
    "    layers.Dropout(0.2),\n",
    "    layers.GlobalAveragePooling1D(),\n",
    "    layers.Dropout(0.2),\n",
    "    layers.Dense(4, activation=\"sigmoid\")\n",
    "])\n",
    "\n",
    "model.summary()"
   ]
  },
  {
   "cell_type": "code",
   "execution_count": 160,
   "id": "318e2df171cb79e1",
   "metadata": {
    "ExecuteTime": {
     "end_time": "2024-05-22T20:16:16.308680Z",
     "start_time": "2024-05-22T20:16:16.304905Z"
    }
   },
   "outputs": [],
   "source": [
    "model.compile(\n",
    "    optimizer=\"adam\",\n",
    "    loss=losses.SparseCategoricalCrossentropy(),\n",
    "    metrics=[\"accuracy\"],\n",
    ")"
   ]
  },
  {
   "cell_type": "code",
   "execution_count": 161,
   "id": "ded038b8b6545de8",
   "metadata": {
    "ExecuteTime": {
     "end_time": "2024-05-22T20:16:25.180606Z",
     "start_time": "2024-05-22T20:16:16.964580Z"
    }
   },
   "outputs": [
    {
     "name": "stdout",
     "output_type": "stream",
     "text": [
      "Epoch 1/10\n",
      "\u001b[1m200/200\u001b[0m \u001b[32m━━━━━━━━━━━━━━━━━━━━\u001b[0m\u001b[37m\u001b[0m \u001b[1m1s\u001b[0m 3ms/step - accuracy: 0.7725 - loss: 0.7344 - val_accuracy: 0.7513 - val_loss: 0.7732\n",
      "Epoch 2/10\n",
      "\u001b[1m200/200\u001b[0m \u001b[32m━━━━━━━━━━━━━━━━━━━━\u001b[0m\u001b[37m\u001b[0m \u001b[1m1s\u001b[0m 4ms/step - accuracy: 0.7879 - loss: 0.6957 - val_accuracy: 0.7581 - val_loss: 0.7528\n",
      "Epoch 3/10\n",
      "\u001b[1m200/200\u001b[0m \u001b[32m━━━━━━━━━━━━━━━━━━━━\u001b[0m\u001b[37m\u001b[0m \u001b[1m1s\u001b[0m 4ms/step - accuracy: 0.7887 - loss: 0.6690 - val_accuracy: 0.7550 - val_loss: 0.7225\n",
      "Epoch 4/10\n",
      "\u001b[1m200/200\u001b[0m \u001b[32m━━━━━━━━━━━━━━━━━━━━\u001b[0m\u001b[37m\u001b[0m \u001b[1m1s\u001b[0m 4ms/step - accuracy: 0.8058 - loss: 0.6365 - val_accuracy: 0.7575 - val_loss: 0.7074\n",
      "Epoch 5/10\n",
      "\u001b[1m200/200\u001b[0m \u001b[32m━━━━━━━━━━━━━━━━━━━━\u001b[0m\u001b[37m\u001b[0m \u001b[1m1s\u001b[0m 4ms/step - accuracy: 0.8012 - loss: 0.6093 - val_accuracy: 0.7675 - val_loss: 0.6919\n",
      "Epoch 6/10\n",
      "\u001b[1m200/200\u001b[0m \u001b[32m━━━━━━━━━━━━━━━━━━━━\u001b[0m\u001b[37m\u001b[0m \u001b[1m1s\u001b[0m 4ms/step - accuracy: 0.8214 - loss: 0.5849 - val_accuracy: 0.7575 - val_loss: 0.6725\n",
      "Epoch 7/10\n",
      "\u001b[1m200/200\u001b[0m \u001b[32m━━━━━━━━━━━━━━━━━━━━\u001b[0m\u001b[37m\u001b[0m \u001b[1m1s\u001b[0m 4ms/step - accuracy: 0.8169 - loss: 0.5664 - val_accuracy: 0.7688 - val_loss: 0.6558\n",
      "Epoch 8/10\n",
      "\u001b[1m200/200\u001b[0m \u001b[32m━━━━━━━━━━━━━━━━━━━━\u001b[0m\u001b[37m\u001b[0m \u001b[1m1s\u001b[0m 4ms/step - accuracy: 0.8185 - loss: 0.5411 - val_accuracy: 0.7738 - val_loss: 0.6501\n",
      "Epoch 9/10\n",
      "\u001b[1m200/200\u001b[0m \u001b[32m━━━━━━━━━━━━━━━━━━━━\u001b[0m\u001b[37m\u001b[0m \u001b[1m1s\u001b[0m 4ms/step - accuracy: 0.8346 - loss: 0.5300 - val_accuracy: 0.7744 - val_loss: 0.6375\n",
      "Epoch 10/10\n",
      "\u001b[1m200/200\u001b[0m \u001b[32m━━━━━━━━━━━━━━━━━━━━\u001b[0m\u001b[37m\u001b[0m \u001b[1m1s\u001b[0m 4ms/step - accuracy: 0.8410 - loss: 0.5065 - val_accuracy: 0.7713 - val_loss: 0.6254\n"
     ]
    }
   ],
   "source": [
    "epochs = 10\n",
    "\n",
    "history = model.fit(\n",
    "    train_dataset,\n",
    "    validation_data=validation_dataset,\n",
    "    epochs=epochs\n",
    ")"
   ]
  },
  {
   "cell_type": "code",
   "execution_count": 162,
   "id": "7c162864c2af07ec",
   "metadata": {
    "ExecuteTime": {
     "end_time": "2024-05-22T20:16:26.148702Z",
     "start_time": "2024-05-22T20:16:25.857087Z"
    }
   },
   "outputs": [
    {
     "name": "stdout",
     "output_type": "stream",
     "text": [
      "\u001b[1m250/250\u001b[0m \u001b[32m━━━━━━━━━━━━━━━━━━━━\u001b[0m\u001b[37m\u001b[0m \u001b[1m0s\u001b[0m 1ms/step - accuracy: 0.7805 - loss: 0.6134\n",
      "Loss: 0.6227101683616638\n",
      "Accuracy: 0.7767500281333923\n"
     ]
    }
   ],
   "source": [
    "loss, accuracy = model.evaluate(test_dataset)\n",
    "\n",
    "print(\"Loss:\", loss)\n",
    "print(\"Accuracy:\", accuracy)"
   ]
  },
  {
   "cell_type": "code",
   "execution_count": 163,
   "id": "a214bf4d20749e80",
   "metadata": {
    "ExecuteTime": {
     "end_time": "2024-05-22T20:16:26.588047Z",
     "start_time": "2024-05-22T20:16:26.585366Z"
    }
   },
   "outputs": [
    {
     "data": {
      "text/plain": [
       "dict_keys(['accuracy', 'loss', 'val_accuracy', 'val_loss'])"
      ]
     },
     "execution_count": 163,
     "metadata": {},
     "output_type": "execute_result"
    }
   ],
   "source": [
    "history_dict = history.history\n",
    "history_dict.keys()"
   ]
  },
  {
   "cell_type": "code",
   "execution_count": 164,
   "id": "48aafb6c486d8d02",
   "metadata": {
    "ExecuteTime": {
     "end_time": "2024-05-22T20:16:27.050007Z",
     "start_time": "2024-05-22T20:16:26.991380Z"
    }
   },
   "outputs": [
    {
     "data": {
      "image/png": "[encoded data removed]",
      "text/plain": [
       "<Figure size 640x480 with 1 Axes>"
      ]
     },
     "metadata": {},
     "output_type": "display_data"
    }
   ],
   "source": [
    "acc = history_dict['accuracy']\n",
    "val_acc = history_dict['val_accuracy']\n",
    "loss = history_dict['loss']\n",
    "val_loss = history_dict['val_loss']\n",
    "\n",
    "epochs = range(1, len(acc) + 1)\n",
    "\n",
    "# \"bo\" is for \"blue dot\"\n",
    "plt.plot(epochs, loss, 'bo', label='Training loss')\n",
    "# b is for \"solid blue line\"\n",
    "plt.plot(epochs, val_loss, 'b', label='Validation loss')\n",
    "plt.title('Training and validation loss')\n",
    "plt.xlabel('Epochs')\n",
    "plt.ylabel('Loss')\n",
    "plt.legend()\n",
    "\n",
    "plt.show()"
   ]
  },
  {
   "cell_type": "code",
   "execution_count": 165,
   "id": "e1b764766a53631f",
   "metadata": {
    "ExecuteTime": {
     "end_time": "2024-05-22T20:16:27.709006Z",
     "start_time": "2024-05-22T20:16:27.647520Z"
    }
   },
   "outputs": [
    {
     "data": {
      "image/png": "[encoded data removed]",
      "text/plain": [
       "<Figure size 640x480 with 1 Axes>"
      ]
     },
     "metadata": {},
     "output_type": "display_data"
    }
   ],
   "source": [
    "plt.plot(epochs, acc, 'bo', label='Training acc')\n",
    "plt.plot(epochs, val_acc, 'b', label='Validation acc')\n",
    "plt.title('Training and validation accuracy')\n",
    "plt.xlabel('Epochs')\n",
    "plt.ylabel('Accuracy')\n",
    "plt.legend(loc='lower right')\n",
    "\n",
    "plt.show()"
   ]
  },
  {
   "cell_type": "code",
   "execution_count": 168,
   "id": "c9573fb2ffdc50ce",
   "metadata": {
    "ExecuteTime": {
     "end_time": "2024-05-22T20:16:37.837541Z",
     "start_time": "2024-05-22T20:16:37.366471Z"
    }
   },
   "outputs": [
    {
     "name": "stdout",
     "output_type": "stream",
     "text": [
      "\u001b[1m250/250\u001b[0m \u001b[32m━━━━━━━━━━━━━━━━━━━━\u001b[0m\u001b[37m\u001b[0m \u001b[1m0s\u001b[0m 1ms/step - accuracy: 0.7772 - loss: 0.0000e+00\n"
     ]
    },
    {
     "data": {
      "text/plain": [
       "[0.0, 0.0, 0.7767500281333923, 0.7767500281333923]"
      ]
     },
     "execution_count": 168,
     "metadata": {},
     "output_type": "execute_result"
    }
   ],
   "source": [
    "export_model = tf.keras.Sequential([\n",
    "    vectorization_layer,\n",
    "    model,\n",
    "    layers.Activation('sigmoid')\n",
    "])\n",
    "\n",
    "export_model.compile(\n",
    "    optimizer=\"adam\",\n",
    "    loss=losses.SparseCategoricalCrossentropy(from_logits=True),\n",
    "    metrics=[\"accuracy\"],\n",
    ")\n",
    "\n",
    "acc = export_model.evaluate(raw_test_dataset)\n",
    "acc"
   ]
  },
  {
   "cell_type": "code",
   "execution_count": 169,
   "id": "8c6b477bfc0ddf63",
   "metadata": {
    "ExecuteTime": {
     "end_time": "2024-05-22T20:16:38.893098Z",
     "start_time": "2024-05-22T20:16:38.823573Z"
    }
   },
   "outputs": [
    {
     "name": "stdout",
     "output_type": "stream",
     "text": [
      "\u001b[1m1/1\u001b[0m \u001b[32m━━━━━━━━━━━━━━━━━━━━\u001b[0m\u001b[37m\u001b[0m \u001b[1m0s\u001b[0m 47ms/step\n",
      "python\n",
      "java\n",
      "javascript\n",
      "javascript\n"
     ]
    }
   ],
   "source": [
    "examples = tf.constant([\n",
    "  \"how to write dictionary in Python python\",\n",
    "  \"class implements interface Console.Writeln()\",\n",
    "  \"java virtual machine system.out.println()\",\n",
    "  \"add click on button\"\n",
    "])\n",
    "\n",
    "predictions = export_model.predict(examples)\n",
    "for i in predictions:\n",
    "    max_value = np.argmax(i)\n",
    "    print(raw_train_dataset.class_names[max_value])"
   ]
  },
  {
   "cell_type": "code",
   "execution_count": 132,
   "id": "bedf6c3f9de207bc",
   "metadata": {
    "ExecuteTime": {
     "end_time": "2024-05-22T20:03:48.554286Z",
     "start_time": "2024-05-22T20:03:48.552673Z"
    }
   },
   "outputs": [],
   "source": []
  },
  {
   "cell_type": "code",
   "execution_count": null,
   "id": "7d9ddd241d77cb35",
   "metadata": {},
   "outputs": [],
   "source": []
  }
 ],
 "metadata": {
  "kernelspec": {
   "display_name": "Python 3",
   "language": "python",
   "name": "python3"
  },
  "language_info": {
   "codemirror_mode": {
    "name": "ipython",
    "version": 2
   },
   "file_extension": ".py",
   "mimetype": "text/x-python",
   "name": "python",
   "nbconvert_exporter": "python",
   "pygments_lexer": "ipython2",
   "version": "2.7.6"
  }
 },
 "nbformat": 4,
 "nbformat_minor": 5
}
