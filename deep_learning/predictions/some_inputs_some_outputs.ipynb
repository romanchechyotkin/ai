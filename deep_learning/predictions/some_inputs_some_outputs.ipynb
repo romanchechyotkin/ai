{
 "cells": [
  {
   "cell_type": "code",
   "id": "initial_id",
   "metadata": {
    "collapsed": true,
    "ExecuteTime": {
     "end_time": "2024-06-04T07:48:36.561492Z",
     "start_time": "2024-06-04T07:48:36.558512Z"
    }
   },
   "source": [
    "#   # игр| % побед | # болельщиков \n",
    "weights = [\n",
    "    [0.1, 0.1, -0.3], # травмы?\n",
    "    [0.1, 0.2, 0.0],  # победа?\n",
    "    [0.0, 1.3, 0.1],  # печаль?\n",
    "]\n",
    "\n",
    "toes = [8.5, 9.5, 9.9, 9.0]\n",
    "wlrec = [0.65, 0.8, 0.8, 0.9]\n",
    "nfans = [1.2, 1.3, 0.5, 1.0]\n"
   ],
   "outputs": [],
   "execution_count": 5
  },
  {
   "metadata": {
    "ExecuteTime": {
     "end_time": "2024-06-04T08:04:02.684928Z",
     "start_time": "2024-06-04T08:04:02.679980Z"
    }
   },
   "cell_type": "code",
   "source": [
    "def elementwise_multiplication(vec1: list[float], vec2: list[float]) -> list[float]:\n",
    "    assert(len(vec1) == len(vec2))\n",
    "    \n",
    "    for i in range(len(vec1)):\n",
    "        res = vec1[i] * vec2[i]\n",
    "        vec1[i] = res\n",
    "    \n",
    "    return vec1\n",
    "\n",
    "def elementwise_addition(vec1: list[float], vec2: list[float]) -> list[float]:\n",
    "    assert(len(vec1) == len(vec2))\n",
    "    \n",
    "    for i in range(len(vec1)):\n",
    "        res = vec1[i] + vec2[i]\n",
    "        vec1[i] = res\n",
    "    \n",
    "    return vec1\n",
    "\n",
    "def vector_sum(vec: list[float]) -> float:\n",
    "    sum = 0\n",
    "    \n",
    "    for i in vec:\n",
    "        sum += i\n",
    "    \n",
    "    return sum\n",
    "\n",
    "def w_sum(input: list[float], weights: list[float]) -> float:\n",
    "    assert(len(input) == len(weights))\n",
    "    \n",
    "    vec = elementwise_multiplication(input, weights)\n",
    "    sum = vector_sum(vec)\n",
    "    \n",
    "    return sum"
   ],
   "id": "fef02d7a5d896bf2",
   "outputs": [],
   "execution_count": 12
  },
  {
   "metadata": {
    "ExecuteTime": {
     "end_time": "2024-06-04T08:05:28.025241Z",
     "start_time": "2024-06-04T08:05:28.018579Z"
    }
   },
   "cell_type": "code",
   "source": [
    "def vect_mat_mul(vec, matrix): \n",
    "    assert(len(vec) == len(matrix))\n",
    "    output = []\n",
    "    \n",
    "    for i in range(len(vec)):\n",
    "        sum = w_sum(vec, matrix[i])\n",
    "        output.append(sum)\n",
    "        \n",
    "    return output\n",
    "    \n",
    "def neural_network(input: list[float], weights: list[list[float]]):\n",
    "    pred = vect_mat_mul(input, weights)\n",
    "    return pred"
   ],
   "id": "a138d6d2b3e610e5",
   "outputs": [],
   "execution_count": 15
  },
  {
   "metadata": {
    "ExecuteTime": {
     "end_time": "2024-06-04T08:05:28.274084Z",
     "start_time": "2024-06-04T08:05:28.269604Z"
    }
   },
   "cell_type": "code",
   "source": [
    "for i in range(4):\n",
    "    input = [toes[i], wlrec[i], nfans[i]]\n",
    "    \n",
    "    pred = neural_network(input, weights)\n",
    "    print(f\"вероятность травм {pred[0]}; вероятность победы {pred[1]}; вероятность печали {pred[2]}\")"
   ],
   "id": "66d7a862310a0bfe",
   "outputs": [
    {
     "name": "stdout",
     "output_type": "stream",
     "text": [
      "вероятность травм 0.555; вероятность победы 0.09800000000000002; вероятность печали 0.016900000000000002\n",
      "вероятность травм 0.64; вероятность победы 0.11100000000000002; вероятность печали 0.020800000000000006\n",
      "вероятность травм 0.92; вероятность победы 0.11500000000000002; вероятность печали 0.020800000000000006\n",
      "вероятность травм 0.69; вероятность победы 0.10800000000000001; вероятность печали 0.023400000000000004\n"
     ]
    }
   ],
   "execution_count": 16
  },
  {
   "metadata": {},
   "cell_type": "code",
   "outputs": [],
   "execution_count": null,
   "source": "",
   "id": "294c5f320917b04"
  }
 ],
 "metadata": {
  "kernelspec": {
   "display_name": "Python 3",
   "language": "python",
   "name": "python3"
  },
  "language_info": {
   "codemirror_mode": {
    "name": "ipython",
    "version": 2
   },
   "file_extension": ".py",
   "mimetype": "text/x-python",
   "name": "python",
   "nbconvert_exporter": "python",
   "pygments_lexer": "ipython2",
   "version": "2.7.6"
  }
 },
 "nbformat": 4,
 "nbformat_minor": 5
}
