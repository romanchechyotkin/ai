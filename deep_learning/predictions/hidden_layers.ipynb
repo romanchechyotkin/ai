{
 "cells": [
  {
   "cell_type": "code",
   "id": "initial_id",
   "metadata": {
    "collapsed": true,
    "ExecuteTime": {
     "end_time": "2024-06-04T08:20:37.105072Z",
     "start_time": "2024-06-04T08:20:37.096027Z"
    }
   },
   "source": [
    "#   # игр| % побед | # болельщиков \n",
    "ih_wgh = [\n",
    "    [0.1, 0.2, -0.1], # hid[0]\n",
    "    [-0.1, 0.1, 0.9], # hid[1]\n",
    "    [0.1, 0.4, 0.1],  # hid[2]\n",
    "]\n",
    "\n",
    "#   hid[0] | hid[1] | hid[2]\n",
    "hp_wgh = [\n",
    "    [0.3, 1.1, -0.3], # травмы?\n",
    "    [0.1, 0.2, 0.0],  # победа?\n",
    "    [0.0, 1.3, 0.1],  # печаль?\n",
    "]\n",
    "\n",
    "weights = [ih_wgh, hp_wgh]\n",
    "\n",
    "toes = [8.5, 9.5, 9.9, 9.0]\n",
    "wlrec = [0.65, 0.8, 0.8, 0.9]\n",
    "nfans = [1.2, 1.3, 0.5, 1.0]\n"
   ],
   "outputs": [],
   "execution_count": 5
  },
  {
   "metadata": {
    "ExecuteTime": {
     "end_time": "2024-06-04T08:20:37.518379Z",
     "start_time": "2024-06-04T08:20:37.515357Z"
    }
   },
   "cell_type": "code",
   "source": [
    "def elementwise_multiplication(vec1: list[float], vec2: list[float]) -> list[float]:\n",
    "    assert(len(vec1) == len(vec2))\n",
    "    \n",
    "    for i in range(len(vec1)):\n",
    "        res = vec1[i] * vec2[i]\n",
    "        vec1[i] = res\n",
    "    \n",
    "    return vec1\n",
    "\n",
    "def elementwise_addition(vec1: list[float], vec2: list[float]) -> list[float]:\n",
    "    assert(len(vec1) == len(vec2))\n",
    "    \n",
    "    for i in range(len(vec1)):\n",
    "        res = vec1[i] + vec2[i]\n",
    "        vec1[i] = res\n",
    "    \n",
    "    return vec1\n",
    "\n",
    "def vector_sum(vec: list[float]) -> float:\n",
    "    sum = 0\n",
    "    \n",
    "    for i in vec:\n",
    "        sum += i\n",
    "    \n",
    "    return sum\n",
    "\n",
    "def w_sum(input: list[float], weights: list[float]) -> float:\n",
    "    assert(len(input) == len(weights))\n",
    "    \n",
    "    vec = elementwise_multiplication(input, weights)\n",
    "    sum = vector_sum(vec)\n",
    "    \n",
    "    return sum"
   ],
   "id": "9d1c22b4db792ba6",
   "outputs": [],
   "execution_count": 6
  },
  {
   "metadata": {
    "ExecuteTime": {
     "end_time": "2024-06-04T08:21:14.621472Z",
     "start_time": "2024-06-04T08:21:14.616990Z"
    }
   },
   "cell_type": "code",
   "source": [
    "def vect_mat_mul(vec, matrix): \n",
    "    assert(len(vec) == len(matrix))\n",
    "    output = []\n",
    "    \n",
    "    for i in range(len(vec)):\n",
    "        sum = w_sum(vec, matrix[i])\n",
    "        output.append(sum)\n",
    "        \n",
    "    return output\n",
    "    \n",
    "def neural_network(input: list[float], weights: list[list[float]]):\n",
    "    hid = vect_mat_mul(input, weights[0])\n",
    "    pred = vect_mat_mul(hid, weights[1])\n",
    "    return pred"
   ],
   "id": "86e79dead93dee46",
   "outputs": [],
   "execution_count": 9
  },
  {
   "metadata": {
    "ExecuteTime": {
     "end_time": "2024-06-04T08:21:15.394749Z",
     "start_time": "2024-06-04T08:21:15.390892Z"
    }
   },
   "cell_type": "code",
   "source": [
    "for i in range(4):\n",
    "    input = [toes[i], wlrec[i], nfans[i]]\n",
    "    \n",
    "    pred = neural_network(input, weights)\n",
    "    print(f\"вероятность травм {pred[0]}; вероятность победы {pred[1]}; вероятность печали {pred[2]}\")"
   ],
   "id": "1641c1c39274b36a",
   "outputs": [
    {
     "name": "stdout",
     "output_type": "stream",
     "text": [
      "вероятность травм 0.06422999999999997; вероятность победы -0.013800000000000007; вероятность печали -0.05148000000000001\n",
      "вероятность травм 0.08284000000000002; вероятность победы -0.01372; вероятность печали -0.05605600000000001\n",
      "вероятность травм 0.1916; вероятность победы 0.004839999999999994; вероятность печали -0.03660800000000001\n",
      "вероятность травм 0.11903999999999999; вероятность победы -0.006240000000000006; вероятность печали -0.04633200000000002\n"
     ]
    }
   ],
   "execution_count": 10
  },
  {
   "metadata": {},
   "cell_type": "code",
   "outputs": [],
   "execution_count": null,
   "source": "",
   "id": "2bdb509e81f0517a"
  }
 ],
 "metadata": {
  "kernelspec": {
   "display_name": "Python 3",
   "language": "python",
   "name": "python3"
  },
  "language_info": {
   "codemirror_mode": {
    "name": "ipython",
    "version": 2
   },
   "file_extension": ".py",
   "mimetype": "text/x-python",
   "name": "python",
   "nbconvert_exporter": "python",
   "pygments_lexer": "ipython2",
   "version": "2.7.6"
  }
 },
 "nbformat": 4,
 "nbformat_minor": 5
}
