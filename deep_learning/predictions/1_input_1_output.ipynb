{
 "cells": [
  {
   "cell_type": "code",
   "id": "initial_id",
   "metadata": {
    "collapsed": true,
    "ExecuteTime": {
     "end_time": "2024-06-03T18:38:03.154627Z",
     "start_time": "2024-06-03T18:38:03.152653Z"
    }
   },
   "source": [
    "weight = 0.1\n",
    "\n",
    "def neural_network(input: float, weight: float) -> float:\n",
    "    prediction = input * weight\n",
    "    return prediction"
   ],
   "outputs": [],
   "execution_count": 8
  },
  {
   "metadata": {
    "ExecuteTime": {
     "end_time": "2024-06-06T11:34:50.144894Z",
     "start_time": "2024-06-06T11:34:50.131585Z"
    }
   },
   "cell_type": "code",
   "source": [
    "number_of_toes = [8.5, 9.5, 10, 9]\n",
    "\n",
    "for i in number_of_toes:\n",
    "    pred = neural_network(i, weight)\n",
    "    print(pred * 100, \"%\")"
   ],
   "id": "ff0831aa61816629",
   "outputs": [
    {
     "name": "stdout",
     "output_type": "stream",
     "text": [
      "85.00000000000001 %\n",
      "95.0 %\n",
      "100.0 %\n",
      "90.0 %\n"
     ]
    }
   ],
   "execution_count": 11
  },
  {
   "metadata": {},
   "cell_type": "code",
   "outputs": [],
   "execution_count": null,
   "source": "",
   "id": "b2bf91d9b346ac84"
  },
  {
   "metadata": {},
   "cell_type": "code",
   "outputs": [],
   "execution_count": null,
   "source": "",
   "id": "62cc80486ffb7895"
  }
 ],
 "metadata": {
  "kernelspec": {
   "display_name": "Python 3",
   "language": "python",
   "name": "python3"
  },
  "language_info": {
   "codemirror_mode": {
    "name": "ipython",
    "version": 2
   },
   "file_extension": ".py",
   "mimetype": "text/x-python",
   "name": "python",
   "nbconvert_exporter": "python",
   "pygments_lexer": "ipython2",
   "version": "2.7.6"
  }
 },
 "nbformat": 4,
 "nbformat_minor": 5
}
