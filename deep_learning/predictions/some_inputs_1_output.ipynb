{
 "cells": [
  {
   "metadata": {
    "ExecuteTime": {
     "end_time": "2024-06-03T19:50:12.115928Z",
     "start_time": "2024-06-03T19:50:12.110714Z"
    }
   },
   "cell_type": "code",
   "source": [
    "def elementwise_multiplication(vec1: list[float], vec2: list[float]) -> list[float]:\n",
    "    assert(len(vec1) == len(vec2))\n",
    "    \n",
    "    for i in range(len(vec1)):\n",
    "        res = vec1[i] * vec2[i]\n",
    "        vec1[i] = res\n",
    "    \n",
    "    return vec1\n",
    "\n",
    "vec1 = [1.1, 1.2, 1.3, 0]\n",
    "vec2 = [1., 2., 3., 0]\n",
    "\n",
    "vec3 = elementwise_multiplication(vec1, vec2)\n",
    "vec3"
   ],
   "id": "7eb27f75d2227445",
   "outputs": [
    {
     "data": {
      "text/plain": [
       "[1.1, 2.4, 3.9000000000000004, 0]"
      ]
     },
     "execution_count": 57,
     "metadata": {},
     "output_type": "execute_result"
    }
   ],
   "execution_count": 57
  },
  {
   "metadata": {
    "ExecuteTime": {
     "end_time": "2024-06-03T19:50:12.121448Z",
     "start_time": "2024-06-03T19:50:12.118069Z"
    }
   },
   "cell_type": "code",
   "source": [
    "def elementwise_addition(vec1: list[float], vec2: list[float]) -> list[float]:\n",
    "    assert(len(vec1) == len(vec2))\n",
    "    \n",
    "    for i in range(len(vec1)):\n",
    "        res = vec1[i] + vec2[i]\n",
    "        vec1[i] = res\n",
    "    \n",
    "    return vec1\n",
    "\n",
    "vec1 = [1.1, 1.2, 1.3, 0]\n",
    "vec2 = [1., 2., 3., 0]\n",
    "\n",
    "vec3 = elementwise_addition(vec1, vec2)\n",
    "vec3"
   ],
   "id": "a2dc3cc19d0bcdcb",
   "outputs": [
    {
     "data": {
      "text/plain": [
       "[2.1, 3.2, 4.3, 0]"
      ]
     },
     "execution_count": 58,
     "metadata": {},
     "output_type": "execute_result"
    }
   ],
   "execution_count": 58
  },
  {
   "metadata": {
    "ExecuteTime": {
     "end_time": "2024-06-03T19:50:12.125602Z",
     "start_time": "2024-06-03T19:50:12.122703Z"
    }
   },
   "cell_type": "code",
   "source": [
    "def vector_sum(vec: list[float]) -> float:\n",
    "    sum = 0\n",
    "    \n",
    "    for i in vec:\n",
    "        sum += i\n",
    "    \n",
    "    return sum\n",
    "\n",
    "vec = [1., 2., 3., 4.]\n",
    "vector_sum(vec)"
   ],
   "id": "b26ff99a23811c32",
   "outputs": [
    {
     "data": {
      "text/plain": [
       "10.0"
      ]
     },
     "execution_count": 59,
     "metadata": {},
     "output_type": "execute_result"
    }
   ],
   "execution_count": 59
  },
  {
   "metadata": {
    "ExecuteTime": {
     "end_time": "2024-06-03T19:50:12.129093Z",
     "start_time": "2024-06-03T19:50:12.126543Z"
    }
   },
   "cell_type": "code",
   "source": [
    "def vector_average(vec: list[float]) -> float:\n",
    "    sum = vector_sum(vec)\n",
    "        \n",
    "    return sum / len(vec)\n",
    "\n",
    "vec = [1., 2., 3., 4.]\n",
    "vector_average(vec)"
   ],
   "id": "2e21563bfb84265b",
   "outputs": [
    {
     "data": {
      "text/plain": [
       "2.5"
      ]
     },
     "execution_count": 60,
     "metadata": {},
     "output_type": "execute_result"
    }
   ],
   "execution_count": 60
  },
  {
   "metadata": {
    "ExecuteTime": {
     "end_time": "2024-06-03T20:11:07.441447Z",
     "start_time": "2024-06-03T20:11:07.439128Z"
    }
   },
   "cell_type": "code",
   "source": [
    "weights = [0.1, 0.2, 0]\n",
    "\n",
    "def w_sum(input: list[float], weights: list[float]) -> float:\n",
    "    assert(len(input) == len(weights))\n",
    "    \n",
    "    vec = elementwise_multiplication(input, weights)\n",
    "    sum = vector_sum(vec)\n",
    "    \n",
    "    return sum\n",
    "    \n",
    "def neural_network(input: list[float], weights: list[float]) -> float:\n",
    "    pred = w_sum(input, weights)\n",
    "    return pred\n"
   ],
   "id": "ef8fceed7506e237",
   "outputs": [],
   "execution_count": 68
  },
  {
   "metadata": {
    "ExecuteTime": {
     "end_time": "2024-06-03T20:11:07.859310Z",
     "start_time": "2024-06-03T20:11:07.856498Z"
    }
   },
   "cell_type": "code",
   "source": [
    "toes = [8.5, 9.5, 9.9, 9.0]\n",
    "wlrec = [0.65, 0.8, 0.8, 0.9]\n",
    "nfans = [1.2, 1.3, 0.5, 1.0]\n",
    "\n",
    "for i in range(4):\n",
    "    input = [toes[i], wlrec[i], nfans[i]]\n",
    "    \n",
    "    pred = neural_network(input, weights)\n",
    "    print(pred)"
   ],
   "id": "7e3e8df493539aca",
   "outputs": [
    {
     "name": "stdout",
     "output_type": "stream",
     "text": [
      "0.9800000000000001\n",
      "1.11\n",
      "1.1500000000000001\n",
      "1.08\n"
     ]
    }
   ],
   "execution_count": 69
  },
  {
   "metadata": {
    "ExecuteTime": {
     "end_time": "2024-06-03T20:11:21.379326Z",
     "start_time": "2024-06-03T20:11:21.376291Z"
    }
   },
   "cell_type": "code",
   "source": [
    "# using numpy\n",
    "import numpy as np\n",
    "\n",
    "weights = np.array(weights)\n",
    "\n",
    "def numpy_neural_network(input, weights):\n",
    "    pred = input.dot(weights)\n",
    "    return pred\n",
    "\n",
    "toes = np.array(toes)\n",
    "wlrec = np.array(wlrec)\n",
    "nfans = np.array(nfans)\n",
    "\n",
    "for i in range(4):\n",
    "    input = np.array([toes[i], wlrec[i], nfans[i]])\n",
    "    pred = numpy_neural_network(input, weights)\n",
    "    print(pred)"
   ],
   "id": "beb39f34fcb96581",
   "outputs": [
    {
     "name": "stdout",
     "output_type": "stream",
     "text": [
      "0.9800000000000001\n",
      "1.11\n",
      "1.1500000000000001\n",
      "1.08\n"
     ]
    }
   ],
   "execution_count": 71
  },
  {
   "metadata": {
    "ExecuteTime": {
     "end_time": "2024-06-03T20:08:12.118823Z",
     "start_time": "2024-06-03T20:08:12.117002Z"
    }
   },
   "cell_type": "code",
   "source": "",
   "id": "48cd45dc3307f1ef",
   "outputs": [],
   "execution_count": 66
  },
  {
   "metadata": {},
   "cell_type": "code",
   "outputs": [],
   "execution_count": null,
   "source": "",
   "id": "9bbc81c42173d79e"
  }
 ],
 "metadata": {
  "kernelspec": {
   "display_name": "Python 3",
   "language": "python",
   "name": "python3"
  },
  "language_info": {
   "codemirror_mode": {
    "name": "ipython",
    "version": 2
   },
   "file_extension": ".py",
   "mimetype": "text/x-python",
   "name": "python",
   "nbconvert_exporter": "python",
   "pygments_lexer": "ipython2",
   "version": "2.7.6"
  }
 },
 "nbformat": 4,
 "nbformat_minor": 5
}
